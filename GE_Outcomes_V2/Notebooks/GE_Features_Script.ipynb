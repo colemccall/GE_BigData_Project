{
 "cells": [
  {
   "cell_type": "markdown",
   "metadata": {},
   "source": [
    "# Generate Reports using Pandas/SQL Queries\n",
    "This notebook will create a series of reports, each used for visualization in PowerBI\n",
    "\n",
    "## Generate Reports based on Outcome Rating"
   ]
  },
  {
   "cell_type": "code",
   "execution_count": 9,
   "metadata": {},
   "outputs": [
    {
     "data": {
      "text/html": [
       "<div>\n",
       "<style scoped>\n",
       "    .dataframe tbody tr th:only-of-type {\n",
       "        vertical-align: middle;\n",
       "    }\n",
       "\n",
       "    .dataframe tbody tr th {\n",
       "        vertical-align: top;\n",
       "    }\n",
       "\n",
       "    .dataframe thead th {\n",
       "        text-align: right;\n",
       "    }\n",
       "</style>\n",
       "<table border=\"1\" class=\"dataframe\">\n",
       "  <thead>\n",
       "    <tr style=\"text-align: right;\">\n",
       "      <th></th>\n",
       "      <th>Unnamed: 0</th>\n",
       "      <th>submission_date</th>\n",
       "      <th>assignment code</th>\n",
       "      <th>outcome code</th>\n",
       "      <th>outcome year</th>\n",
       "      <th>course_id</th>\n",
       "      <th>semester</th>\n",
       "      <th>course</th>\n",
       "      <th>section</th>\n",
       "      <th>outcome score</th>\n",
       "      <th>outcome rating</th>\n",
       "      <th>college</th>\n",
       "      <th>compliance</th>\n",
       "    </tr>\n",
       "  </thead>\n",
       "  <tbody>\n",
       "    <tr>\n",
       "      <th>0</th>\n",
       "      <td>13328</td>\n",
       "      <td>2022-04-18</td>\n",
       "      <td>422281</td>\n",
       "      <td>CF2</td>\n",
       "      <td>U1415</td>\n",
       "      <td>SP2022_THEO2100_03</td>\n",
       "      <td>SP2022</td>\n",
       "      <td>THEO2100</td>\n",
       "      <td>03</td>\n",
       "      <td>3.0</td>\n",
       "      <td>Exemplary</td>\n",
       "      <td>College of Theology &amp; Christian Ministry</td>\n",
       "      <td>Outcome assessed</td>\n",
       "    </tr>\n",
       "    <tr>\n",
       "      <th>1</th>\n",
       "      <td>17704</td>\n",
       "      <td>2022-05-01</td>\n",
       "      <td>422281</td>\n",
       "      <td>CF2</td>\n",
       "      <td>U1415</td>\n",
       "      <td>SP2022_THEO2100_03</td>\n",
       "      <td>SP2022</td>\n",
       "      <td>THEO2100</td>\n",
       "      <td>03</td>\n",
       "      <td>1.0</td>\n",
       "      <td>Minimum</td>\n",
       "      <td>College of Theology &amp; Christian Ministry</td>\n",
       "      <td>Outcome assessed</td>\n",
       "    </tr>\n",
       "    <tr>\n",
       "      <th>2</th>\n",
       "      <td>20155</td>\n",
       "      <td>2022-05-02</td>\n",
       "      <td>422281</td>\n",
       "      <td>CF2</td>\n",
       "      <td>U1415</td>\n",
       "      <td>SP2022_THEO2100_03</td>\n",
       "      <td>SP2022</td>\n",
       "      <td>THEO2100</td>\n",
       "      <td>03</td>\n",
       "      <td>3.0</td>\n",
       "      <td>Exemplary</td>\n",
       "      <td>College of Theology &amp; Christian Ministry</td>\n",
       "      <td>Outcome assessed</td>\n",
       "    </tr>\n",
       "    <tr>\n",
       "      <th>3</th>\n",
       "      <td>21601</td>\n",
       "      <td>2022-05-02</td>\n",
       "      <td>422281</td>\n",
       "      <td>CF2</td>\n",
       "      <td>U1415</td>\n",
       "      <td>SP2022_THEO2100_03</td>\n",
       "      <td>SP2022</td>\n",
       "      <td>THEO2100</td>\n",
       "      <td>03</td>\n",
       "      <td>2.0</td>\n",
       "      <td>Target</td>\n",
       "      <td>College of Theology &amp; Christian Ministry</td>\n",
       "      <td>Outcome assessed</td>\n",
       "    </tr>\n",
       "    <tr>\n",
       "      <th>4</th>\n",
       "      <td>24034</td>\n",
       "      <td>2022-05-02</td>\n",
       "      <td>422281</td>\n",
       "      <td>CF2</td>\n",
       "      <td>U1415</td>\n",
       "      <td>SP2022_THEO2100_03</td>\n",
       "      <td>SP2022</td>\n",
       "      <td>THEO2100</td>\n",
       "      <td>03</td>\n",
       "      <td>3.0</td>\n",
       "      <td>Exemplary</td>\n",
       "      <td>College of Theology &amp; Christian Ministry</td>\n",
       "      <td>Outcome assessed</td>\n",
       "    </tr>\n",
       "    <tr>\n",
       "      <th>...</th>\n",
       "      <td>...</td>\n",
       "      <td>...</td>\n",
       "      <td>...</td>\n",
       "      <td>...</td>\n",
       "      <td>...</td>\n",
       "      <td>...</td>\n",
       "      <td>...</td>\n",
       "      <td>...</td>\n",
       "      <td>...</td>\n",
       "      <td>...</td>\n",
       "      <td>...</td>\n",
       "      <td>...</td>\n",
       "      <td>...</td>\n",
       "    </tr>\n",
       "    <tr>\n",
       "      <th>1494</th>\n",
       "      <td>40928</td>\n",
       "      <td>2022-05-02</td>\n",
       "      <td>466450</td>\n",
       "      <td>IP4</td>\n",
       "      <td>U2021</td>\n",
       "      <td>SP2022_ENGL1030B_02</td>\n",
       "      <td>SP2022</td>\n",
       "      <td>ENGL1030B</td>\n",
       "      <td>02</td>\n",
       "      <td>3.0</td>\n",
       "      <td>Exemplary</td>\n",
       "      <td>College of Arts and Humanites</td>\n",
       "      <td>Outcome assessed</td>\n",
       "    </tr>\n",
       "    <tr>\n",
       "      <th>1495</th>\n",
       "      <td>41052</td>\n",
       "      <td>2022-05-03</td>\n",
       "      <td>464908</td>\n",
       "      <td>IP4</td>\n",
       "      <td>U2021</td>\n",
       "      <td>SP2022_ENGL1030B_01</td>\n",
       "      <td>SP2022</td>\n",
       "      <td>ENGL1030B</td>\n",
       "      <td>01</td>\n",
       "      <td>0.0</td>\n",
       "      <td>Fail</td>\n",
       "      <td>College of Arts and Humanites</td>\n",
       "      <td>Outcome assessed</td>\n",
       "    </tr>\n",
       "    <tr>\n",
       "      <th>1496</th>\n",
       "      <td>41073</td>\n",
       "      <td>2022-04-29</td>\n",
       "      <td>466450</td>\n",
       "      <td>IP4</td>\n",
       "      <td>U2021</td>\n",
       "      <td>SP2022_ENGL1030B_02</td>\n",
       "      <td>SP2022</td>\n",
       "      <td>ENGL1030B</td>\n",
       "      <td>02</td>\n",
       "      <td>2.0</td>\n",
       "      <td>Target</td>\n",
       "      <td>College of Arts and Humanites</td>\n",
       "      <td>Outcome assessed</td>\n",
       "    </tr>\n",
       "    <tr>\n",
       "      <th>1497</th>\n",
       "      <td>41102</td>\n",
       "      <td>2022-04-29</td>\n",
       "      <td>466450</td>\n",
       "      <td>IP4</td>\n",
       "      <td>U2021</td>\n",
       "      <td>SP2022_ENGL1030B_02</td>\n",
       "      <td>SP2022</td>\n",
       "      <td>ENGL1030B</td>\n",
       "      <td>02</td>\n",
       "      <td>2.0</td>\n",
       "      <td>Target</td>\n",
       "      <td>College of Arts and Humanites</td>\n",
       "      <td>Outcome assessed</td>\n",
       "    </tr>\n",
       "    <tr>\n",
       "      <th>1498</th>\n",
       "      <td>41120</td>\n",
       "      <td>2022-04-29</td>\n",
       "      <td>467000</td>\n",
       "      <td>IP4</td>\n",
       "      <td>U2021</td>\n",
       "      <td>SP2022_HNRS2560_01</td>\n",
       "      <td>SP2022</td>\n",
       "      <td>HNRS2560</td>\n",
       "      <td>01</td>\n",
       "      <td>1.0</td>\n",
       "      <td>Minimum</td>\n",
       "      <td>College of Arts and Humanites</td>\n",
       "      <td>Outcome assessed</td>\n",
       "    </tr>\n",
       "  </tbody>\n",
       "</table>\n",
       "<p>1499 rows × 13 columns</p>\n",
       "</div>"
      ],
      "text/plain": [
       "      Unnamed: 0 submission_date  assignment code outcome code outcome year  \\\n",
       "0          13328      2022-04-18           422281          CF2        U1415   \n",
       "1          17704      2022-05-01           422281          CF2        U1415   \n",
       "2          20155      2022-05-02           422281          CF2        U1415   \n",
       "3          21601      2022-05-02           422281          CF2        U1415   \n",
       "4          24034      2022-05-02           422281          CF2        U1415   \n",
       "...          ...             ...              ...          ...          ...   \n",
       "1494       40928      2022-05-02           466450          IP4        U2021   \n",
       "1495       41052      2022-05-03           464908          IP4        U2021   \n",
       "1496       41073      2022-04-29           466450          IP4        U2021   \n",
       "1497       41102      2022-04-29           466450          IP4        U2021   \n",
       "1498       41120      2022-04-29           467000          IP4        U2021   \n",
       "\n",
       "                course_id semester     course section  outcome score  \\\n",
       "0      SP2022_THEO2100_03   SP2022   THEO2100      03            3.0   \n",
       "1      SP2022_THEO2100_03   SP2022   THEO2100      03            1.0   \n",
       "2      SP2022_THEO2100_03   SP2022   THEO2100      03            3.0   \n",
       "3      SP2022_THEO2100_03   SP2022   THEO2100      03            2.0   \n",
       "4      SP2022_THEO2100_03   SP2022   THEO2100      03            3.0   \n",
       "...                   ...      ...        ...     ...            ...   \n",
       "1494  SP2022_ENGL1030B_02   SP2022  ENGL1030B      02            3.0   \n",
       "1495  SP2022_ENGL1030B_01   SP2022  ENGL1030B      01            0.0   \n",
       "1496  SP2022_ENGL1030B_02   SP2022  ENGL1030B      02            2.0   \n",
       "1497  SP2022_ENGL1030B_02   SP2022  ENGL1030B      02            2.0   \n",
       "1498   SP2022_HNRS2560_01   SP2022   HNRS2560      01            1.0   \n",
       "\n",
       "     outcome rating                                   college  \\\n",
       "0         Exemplary  College of Theology & Christian Ministry   \n",
       "1           Minimum  College of Theology & Christian Ministry   \n",
       "2         Exemplary  College of Theology & Christian Ministry   \n",
       "3            Target  College of Theology & Christian Ministry   \n",
       "4         Exemplary  College of Theology & Christian Ministry   \n",
       "...             ...                                       ...   \n",
       "1494      Exemplary             College of Arts and Humanites   \n",
       "1495           Fail             College of Arts and Humanites   \n",
       "1496         Target             College of Arts and Humanites   \n",
       "1497         Target             College of Arts and Humanites   \n",
       "1498        Minimum             College of Arts and Humanites   \n",
       "\n",
       "            compliance  \n",
       "0     Outcome assessed  \n",
       "1     Outcome assessed  \n",
       "2     Outcome assessed  \n",
       "3     Outcome assessed  \n",
       "4     Outcome assessed  \n",
       "...                ...  \n",
       "1494  Outcome assessed  \n",
       "1495  Outcome assessed  \n",
       "1496  Outcome assessed  \n",
       "1497  Outcome assessed  \n",
       "1498  Outcome assessed  \n",
       "\n",
       "[1499 rows x 13 columns]"
      ]
     },
     "execution_count": 9,
     "metadata": {},
     "output_type": "execute_result"
    }
   ],
   "source": [
    "import pandas as pd\n",
    "import os\n",
    "\n",
    "file_path = '2_Staging\\\\Spring 2022 Outcome Report 2.1.csv'\n",
    "course_path = '2_Staging\\\\Spring 2022 GE Courses.csv'\n",
    "\n",
    "dataframe = pd.DataFrame(pd.read_csv(file_path))\n",
    "courseframe = pd.DataFrame(pd.read_csv(course_path))\n",
    "\n",
    "dataframe"
   ]
  },
  {
   "cell_type": "markdown",
   "metadata": {},
   "source": [
    "### Outcome Ratings by Section"
   ]
  },
  {
   "cell_type": "code",
   "execution_count": 42,
   "metadata": {},
   "outputs": [
    {
     "data": {
      "text/plain": [
       "course_id           outcome rating   \n",
       "SP2022_ARDE3950_01  Minimum                4\n",
       "                    Target                11\n",
       "SP2022_BIBL1100_01  Exemplary              2\n",
       "                    No Data Collected    174\n",
       "SP2022_BIOL1060_1U  Exemplary              3\n",
       "                                        ... \n",
       "SP2022_THEO3620_01  Minimum                5\n",
       "                    No Data Collected      1\n",
       "                    Target                 8\n",
       "SP2022_THEO4900_01  Exemplary              8\n",
       "                    Target                 4\n",
       "Name: outcome score, Length: 162, dtype: int64"
      ]
     },
     "execution_count": 42,
     "metadata": {},
     "output_type": "execute_result"
    }
   ],
   "source": [
    "score = dataframe.groupby(['course_id', 'outcome rating'])['outcome score'].count()\n",
    "count = courseframe.groupby(['course_id'])['studentCount'].sum()\n",
    "score.to_csv('3_Features\\\\Outcome_Rating_by_Course.csv')\n",
    "\n",
    "score\n"
   ]
  },
  {
   "cell_type": "code",
   "execution_count": 43,
   "metadata": {},
   "outputs": [],
   "source": [
    "count\n",
    "count.to_csv('test.csv')"
   ]
  },
  {
   "cell_type": "markdown",
   "metadata": {},
   "source": [
    "### University Outcome Ratings"
   ]
  },
  {
   "cell_type": "code",
   "execution_count": 7,
   "metadata": {},
   "outputs": [
    {
     "data": {
      "text/plain": [
       "outcome rating\n",
       "Exemplary                                    398\n",
       "Fail                                          37\n",
       "Invalid Entry - Distinguished/Commendable     42\n",
       "Minimum                                      115\n",
       "No Data Collected                            317\n",
       "Target                                       590\n",
       "Name: outcome score, dtype: int64"
      ]
     },
     "execution_count": 7,
     "metadata": {},
     "output_type": "execute_result"
    }
   ],
   "source": [
    "score = dataframe.groupby(['outcome rating'])['outcome score'].count()\n",
    "\n",
    "score.to_csv('3_Features\\\\Outcome_Rating_University.csv')\n",
    "\n",
    "score\n"
   ]
  },
  {
   "cell_type": "markdown",
   "metadata": {},
   "source": [
    "### Outcome Ratings by College"
   ]
  },
  {
   "cell_type": "code",
   "execution_count": 8,
   "metadata": {},
   "outputs": [
    {
     "data": {
      "text/plain": [
       "college                                   outcome rating                           \n",
       "College of Arts and Humanites             Exemplary                                    189\n",
       "                                          Fail                                          14\n",
       "                                          Minimum                                       77\n",
       "                                          No Data Collected                             72\n",
       "                                          Target                                       253\n",
       "College of Behavior and Social Sciences   Exemplary                                     24\n",
       "                                          Fail                                          11\n",
       "                                          Minimum                                        3\n",
       "                                          Target                                        16\n",
       "College of Educaton                       Exemplary                                     18\n",
       "                                          Target                                        29\n",
       "College of Natural and Applied Sciences   Exemplary                                     51\n",
       "                                          Fail                                          12\n",
       "                                          Minimum                                       10\n",
       "                                          No Data Collected                             70\n",
       "                                          Target                                       144\n",
       "College of Nursing                        Exemplary                                     37\n",
       "College of Theology & Christian Ministry  Exemplary                                     79\n",
       "                                          Invalid Entry - Distinguished/Commendable     42\n",
       "                                          Minimum                                       25\n",
       "                                          No Data Collected                            175\n",
       "                                          Target                                       148\n",
       "Name: outcome score, dtype: int64"
      ]
     },
     "execution_count": 8,
     "metadata": {},
     "output_type": "execute_result"
    }
   ],
   "source": [
    "score = dataframe.groupby(['college', 'outcome rating'])['outcome score'].count()\n",
    "\n",
    "score.to_csv('3_Features\\\\Outcome_Rating_by_College.csv')\n",
    "\n",
    "score"
   ]
  },
  {
   "cell_type": "markdown",
   "metadata": {},
   "source": [
    "## Generate Reports Based on Compliance\n",
    "\n",
    "### Compliance by College"
   ]
  },
  {
   "cell_type": "code",
   "execution_count": 13,
   "metadata": {},
   "outputs": [
    {
     "data": {
      "text/plain": [
       "college                                   compliance                          \n",
       "College of Arts and Humanites             Outcome assessed                        533\n",
       "                                          Outcome attached, no assessment          72\n",
       "College of Behavior and Social Sciences   Outcome assessed                         54\n",
       "College of Educaton                       Outcome assessed                         47\n",
       "College of Natural and Applied Sciences   Outcome assessed                        217\n",
       "                                          Outcome attached, no assessment          70\n",
       "College of Nursing                        Outcome assessed                         37\n",
       "College of Theology & Christian Ministry  Outcome assessed                        252\n",
       "                                          Outcome attached, invalid assessment     42\n",
       "                                          Outcome attached, no assessment         175\n",
       "Name: compliance, dtype: int64"
      ]
     },
     "execution_count": 13,
     "metadata": {},
     "output_type": "execute_result"
    }
   ],
   "source": [
    "compliance = dataframe.groupby(['college', 'compliance'])['compliance'].count()\n",
    "\n",
    "compliance.to_csv('3_Features\\\\Compliance_by_College.csv')\n",
    "\n",
    "compliance"
   ]
  },
  {
   "cell_type": "markdown",
   "metadata": {},
   "source": [
    "### Compliance by Course"
   ]
  },
  {
   "cell_type": "code",
   "execution_count": 3,
   "metadata": {},
   "outputs": [
    {
     "data": {
      "text/plain": [
       "course    section  compliance                     \n",
       "ARDE3950  01       Outcome assessed                    15\n",
       "BIBL1100  01       Outcome assessed                     2\n",
       "                   Outcome attached, no assessment    174\n",
       "BIOL1060  1U       Outcome assessed                    20\n",
       "                   Outcome attached, no assessment      5\n",
       "                                                     ... \n",
       "PSYC4010  01       Outcome assessed                     6\n",
       "THEO2100  03       Outcome assessed                    35\n",
       "THEO3620  01       Outcome assessed                    14\n",
       "                   Outcome attached, no assessment      1\n",
       "THEO4900  01       Outcome assessed                    12\n",
       "Name: compliance, Length: 82, dtype: int64"
      ]
     },
     "execution_count": 3,
     "metadata": {},
     "output_type": "execute_result"
    }
   ],
   "source": [
    "compliance = dataframe.groupby(['course', 'section', 'compliance'])['compliance'].count()\n",
    "\n",
    "compliance.to_csv('3_Features\\\\Compliance_by_Section.csv')\n",
    "\n",
    "compliance"
   ]
  },
  {
   "cell_type": "code",
   "execution_count": 14,
   "metadata": {},
   "outputs": [
    {
     "data": {
      "text/plain": [
       "course    compliance                     \n",
       "ARDE3950  Outcome assessed                    15\n",
       "BIBL1100  Outcome assessed                     2\n",
       "          Outcome attached, no assessment    174\n",
       "BIOL1060  Outcome assessed                    20\n",
       "          Outcome attached, no assessment      5\n",
       "                                            ... \n",
       "PSYC4010  Outcome assessed                     6\n",
       "THEO2100  Outcome assessed                    35\n",
       "THEO3620  Outcome assessed                    14\n",
       "          Outcome attached, no assessment      1\n",
       "THEO4900  Outcome assessed                    12\n",
       "Name: compliance, Length: 66, dtype: int64"
      ]
     },
     "execution_count": 14,
     "metadata": {},
     "output_type": "execute_result"
    }
   ],
   "source": [
    "compliance = dataframe.groupby(['course', 'compliance'])['compliance'].count()\n",
    "\n",
    "compliance.to_csv('3_Features\\\\Compliance_by_Course.csv')\n",
    "\n",
    "compliance"
   ]
  },
  {
   "cell_type": "markdown",
   "metadata": {},
   "source": [
    "### Compliance across the University"
   ]
  },
  {
   "cell_type": "code",
   "execution_count": 15,
   "metadata": {},
   "outputs": [
    {
     "data": {
      "text/plain": [
       "compliance\n",
       "Outcome assessed                        1140\n",
       "Outcome attached, invalid assessment      42\n",
       "Outcome attached, no assessment          317\n",
       "Name: compliance, dtype: int64"
      ]
     },
     "execution_count": 15,
     "metadata": {},
     "output_type": "execute_result"
    }
   ],
   "source": [
    "compliance = dataframe.groupby(['compliance'])['compliance'].count()\n",
    "\n",
    "compliance.to_csv('3_Features\\\\Compliance_University.csv')\n",
    "\n",
    "compliance"
   ]
  }
 ],
 "metadata": {
  "kernelspec": {
   "display_name": "Python 3.10.8 64-bit (microsoft store)",
   "language": "python",
   "name": "python3"
  },
  "language_info": {
   "codemirror_mode": {
    "name": "ipython",
    "version": 3
   },
   "file_extension": ".py",
   "mimetype": "text/x-python",
   "name": "python",
   "nbconvert_exporter": "python",
   "pygments_lexer": "ipython3",
   "version": "3.10.8"
  },
  "orig_nbformat": 4,
  "vscode": {
   "interpreter": {
    "hash": "b9d75fba48799978cc03d06d67ac9b5747e05087c4e4326acc71196d5c9d01bd"
   }
  }
 },
 "nbformat": 4,
 "nbformat_minor": 2
}
