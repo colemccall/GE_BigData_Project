{
 "cells": [
  {
   "cell_type": "markdown",
   "metadata": {},
   "source": [
    "# Generate Reports using Pandas/SQL Queries\n",
    "This notebook will create a series of reports, each used for visualization in PowerBI\n",
    "\n",
    "## Generate Reports based on Outcome Rating"
   ]
  },
  {
   "cell_type": "code",
   "execution_count": 2,
   "metadata": {},
   "outputs": [
    {
     "data": {
      "text/html": [
       "<div>\n",
       "<style scoped>\n",
       "    .dataframe tbody tr th:only-of-type {\n",
       "        vertical-align: middle;\n",
       "    }\n",
       "\n",
       "    .dataframe tbody tr th {\n",
       "        vertical-align: top;\n",
       "    }\n",
       "\n",
       "    .dataframe thead th {\n",
       "        text-align: right;\n",
       "    }\n",
       "</style>\n",
       "<table border=\"1\" class=\"dataframe\">\n",
       "  <thead>\n",
       "    <tr style=\"text-align: right;\">\n",
       "      <th></th>\n",
       "      <th>Unnamed: 0</th>\n",
       "      <th>submission_date</th>\n",
       "      <th>outcome code</th>\n",
       "      <th>outcome year</th>\n",
       "      <th>semester</th>\n",
       "      <th>course</th>\n",
       "      <th>section</th>\n",
       "      <th>outcome score</th>\n",
       "      <th>outcome rating</th>\n",
       "      <th>college</th>\n",
       "      <th>compliance</th>\n",
       "    </tr>\n",
       "  </thead>\n",
       "  <tbody>\n",
       "    <tr>\n",
       "      <th>0</th>\n",
       "      <td>13328</td>\n",
       "      <td>2022-04-18</td>\n",
       "      <td>CF2</td>\n",
       "      <td>U1415</td>\n",
       "      <td>SP2022</td>\n",
       "      <td>THEO2100</td>\n",
       "      <td>03</td>\n",
       "      <td>3.0</td>\n",
       "      <td>Exemplary</td>\n",
       "      <td>College of Theology &amp; Christian Ministry</td>\n",
       "      <td>Outcome assessed</td>\n",
       "    </tr>\n",
       "    <tr>\n",
       "      <th>1</th>\n",
       "      <td>17704</td>\n",
       "      <td>2022-05-01</td>\n",
       "      <td>CF2</td>\n",
       "      <td>U1415</td>\n",
       "      <td>SP2022</td>\n",
       "      <td>THEO2100</td>\n",
       "      <td>03</td>\n",
       "      <td>1.0</td>\n",
       "      <td>Minimum</td>\n",
       "      <td>College of Theology &amp; Christian Ministry</td>\n",
       "      <td>Outcome assessed</td>\n",
       "    </tr>\n",
       "    <tr>\n",
       "      <th>2</th>\n",
       "      <td>20155</td>\n",
       "      <td>2022-05-02</td>\n",
       "      <td>CF2</td>\n",
       "      <td>U1415</td>\n",
       "      <td>SP2022</td>\n",
       "      <td>THEO2100</td>\n",
       "      <td>03</td>\n",
       "      <td>3.0</td>\n",
       "      <td>Exemplary</td>\n",
       "      <td>College of Theology &amp; Christian Ministry</td>\n",
       "      <td>Outcome assessed</td>\n",
       "    </tr>\n",
       "    <tr>\n",
       "      <th>3</th>\n",
       "      <td>21601</td>\n",
       "      <td>2022-05-02</td>\n",
       "      <td>CF2</td>\n",
       "      <td>U1415</td>\n",
       "      <td>SP2022</td>\n",
       "      <td>THEO2100</td>\n",
       "      <td>03</td>\n",
       "      <td>2.0</td>\n",
       "      <td>Target</td>\n",
       "      <td>College of Theology &amp; Christian Ministry</td>\n",
       "      <td>Outcome assessed</td>\n",
       "    </tr>\n",
       "    <tr>\n",
       "      <th>4</th>\n",
       "      <td>24034</td>\n",
       "      <td>2022-05-02</td>\n",
       "      <td>CF2</td>\n",
       "      <td>U1415</td>\n",
       "      <td>SP2022</td>\n",
       "      <td>THEO2100</td>\n",
       "      <td>03</td>\n",
       "      <td>3.0</td>\n",
       "      <td>Exemplary</td>\n",
       "      <td>College of Theology &amp; Christian Ministry</td>\n",
       "      <td>Outcome assessed</td>\n",
       "    </tr>\n",
       "    <tr>\n",
       "      <th>...</th>\n",
       "      <td>...</td>\n",
       "      <td>...</td>\n",
       "      <td>...</td>\n",
       "      <td>...</td>\n",
       "      <td>...</td>\n",
       "      <td>...</td>\n",
       "      <td>...</td>\n",
       "      <td>...</td>\n",
       "      <td>...</td>\n",
       "      <td>...</td>\n",
       "      <td>...</td>\n",
       "    </tr>\n",
       "    <tr>\n",
       "      <th>1494</th>\n",
       "      <td>40928</td>\n",
       "      <td>2022-05-02</td>\n",
       "      <td>IP4</td>\n",
       "      <td>U2021</td>\n",
       "      <td>SP2022</td>\n",
       "      <td>ENGL1030B</td>\n",
       "      <td>02</td>\n",
       "      <td>3.0</td>\n",
       "      <td>Exemplary</td>\n",
       "      <td>College of Arts and Humanites</td>\n",
       "      <td>Outcome assessed</td>\n",
       "    </tr>\n",
       "    <tr>\n",
       "      <th>1495</th>\n",
       "      <td>41052</td>\n",
       "      <td>2022-05-03</td>\n",
       "      <td>IP4</td>\n",
       "      <td>U2021</td>\n",
       "      <td>SP2022</td>\n",
       "      <td>ENGL1030B</td>\n",
       "      <td>01</td>\n",
       "      <td>0.0</td>\n",
       "      <td>Fail</td>\n",
       "      <td>College of Arts and Humanites</td>\n",
       "      <td>Outcome assessed</td>\n",
       "    </tr>\n",
       "    <tr>\n",
       "      <th>1496</th>\n",
       "      <td>41073</td>\n",
       "      <td>2022-04-29</td>\n",
       "      <td>IP4</td>\n",
       "      <td>U2021</td>\n",
       "      <td>SP2022</td>\n",
       "      <td>ENGL1030B</td>\n",
       "      <td>02</td>\n",
       "      <td>2.0</td>\n",
       "      <td>Target</td>\n",
       "      <td>College of Arts and Humanites</td>\n",
       "      <td>Outcome assessed</td>\n",
       "    </tr>\n",
       "    <tr>\n",
       "      <th>1497</th>\n",
       "      <td>41102</td>\n",
       "      <td>2022-04-29</td>\n",
       "      <td>IP4</td>\n",
       "      <td>U2021</td>\n",
       "      <td>SP2022</td>\n",
       "      <td>ENGL1030B</td>\n",
       "      <td>02</td>\n",
       "      <td>2.0</td>\n",
       "      <td>Target</td>\n",
       "      <td>College of Arts and Humanites</td>\n",
       "      <td>Outcome assessed</td>\n",
       "    </tr>\n",
       "    <tr>\n",
       "      <th>1498</th>\n",
       "      <td>41120</td>\n",
       "      <td>2022-04-29</td>\n",
       "      <td>IP4</td>\n",
       "      <td>U2021</td>\n",
       "      <td>SP2022</td>\n",
       "      <td>HNRS2560</td>\n",
       "      <td>01</td>\n",
       "      <td>1.0</td>\n",
       "      <td>Minimum</td>\n",
       "      <td>College of Arts and Humanites</td>\n",
       "      <td>Outcome assessed</td>\n",
       "    </tr>\n",
       "  </tbody>\n",
       "</table>\n",
       "<p>1499 rows × 11 columns</p>\n",
       "</div>"
      ],
      "text/plain": [
       "      Unnamed: 0 submission_date outcome code outcome year semester  \\\n",
       "0          13328      2022-04-18          CF2        U1415   SP2022   \n",
       "1          17704      2022-05-01          CF2        U1415   SP2022   \n",
       "2          20155      2022-05-02          CF2        U1415   SP2022   \n",
       "3          21601      2022-05-02          CF2        U1415   SP2022   \n",
       "4          24034      2022-05-02          CF2        U1415   SP2022   \n",
       "...          ...             ...          ...          ...      ...   \n",
       "1494       40928      2022-05-02          IP4        U2021   SP2022   \n",
       "1495       41052      2022-05-03          IP4        U2021   SP2022   \n",
       "1496       41073      2022-04-29          IP4        U2021   SP2022   \n",
       "1497       41102      2022-04-29          IP4        U2021   SP2022   \n",
       "1498       41120      2022-04-29          IP4        U2021   SP2022   \n",
       "\n",
       "         course section  outcome score outcome rating  \\\n",
       "0      THEO2100      03            3.0      Exemplary   \n",
       "1      THEO2100      03            1.0        Minimum   \n",
       "2      THEO2100      03            3.0      Exemplary   \n",
       "3      THEO2100      03            2.0         Target   \n",
       "4      THEO2100      03            3.0      Exemplary   \n",
       "...         ...     ...            ...            ...   \n",
       "1494  ENGL1030B      02            3.0      Exemplary   \n",
       "1495  ENGL1030B      01            0.0           Fail   \n",
       "1496  ENGL1030B      02            2.0         Target   \n",
       "1497  ENGL1030B      02            2.0         Target   \n",
       "1498   HNRS2560      01            1.0        Minimum   \n",
       "\n",
       "                                       college        compliance  \n",
       "0     College of Theology & Christian Ministry  Outcome assessed  \n",
       "1     College of Theology & Christian Ministry  Outcome assessed  \n",
       "2     College of Theology & Christian Ministry  Outcome assessed  \n",
       "3     College of Theology & Christian Ministry  Outcome assessed  \n",
       "4     College of Theology & Christian Ministry  Outcome assessed  \n",
       "...                                        ...               ...  \n",
       "1494             College of Arts and Humanites  Outcome assessed  \n",
       "1495             College of Arts and Humanites  Outcome assessed  \n",
       "1496             College of Arts and Humanites  Outcome assessed  \n",
       "1497             College of Arts and Humanites  Outcome assessed  \n",
       "1498             College of Arts and Humanites  Outcome assessed  \n",
       "\n",
       "[1499 rows x 11 columns]"
      ]
     },
     "execution_count": 2,
     "metadata": {},
     "output_type": "execute_result"
    }
   ],
   "source": [
    "import pandas as pd\n",
    "import os\n",
    "\n",
    "file_path = os.getcwd() + '\\\\2_Staging\\\\Spring 2022 Outcome Report 2.1.csv'\n",
    "\n",
    "data = pd.read_csv(file_path)\n",
    "dataframe = pd.DataFrame(data)\n",
    "\n",
    "dataframe"
   ]
  },
  {
   "cell_type": "markdown",
   "metadata": {},
   "source": [
    "### Outcome Ratings by Course"
   ]
  },
  {
   "cell_type": "code",
   "execution_count": 6,
   "metadata": {},
   "outputs": [
    {
     "data": {
      "text/plain": [
       "course    outcome rating   \n",
       "ARDE3950  Minimum                4\n",
       "          Target                11\n",
       "BIBL1100  Exemplary              2\n",
       "          No Data Collected    174\n",
       "BIOL1060  Exemplary              3\n",
       "                              ... \n",
       "THEO3620  Minimum                5\n",
       "          No Data Collected      1\n",
       "          Target                 8\n",
       "THEO4900  Exemplary              8\n",
       "          Target                 4\n",
       "Name: outcome score, Length: 140, dtype: int64"
      ]
     },
     "execution_count": 6,
     "metadata": {},
     "output_type": "execute_result"
    }
   ],
   "source": [
    "score = dataframe.groupby(['course', 'outcome rating'])['outcome score'].count()\n",
    "\n",
    "score.to_csv('3_Features\\\\Outcome_Rating_by_Course.csv')\n",
    "\n",
    "score\n",
    "\n"
   ]
  },
  {
   "cell_type": "markdown",
   "metadata": {},
   "source": [
    "### University Outcome Ratings"
   ]
  },
  {
   "cell_type": "code",
   "execution_count": 7,
   "metadata": {},
   "outputs": [
    {
     "data": {
      "text/plain": [
       "outcome rating\n",
       "Exemplary                                    398\n",
       "Fail                                          37\n",
       "Invalid Entry - Distinguished/Commendable     42\n",
       "Minimum                                      115\n",
       "No Data Collected                            317\n",
       "Target                                       590\n",
       "Name: outcome score, dtype: int64"
      ]
     },
     "execution_count": 7,
     "metadata": {},
     "output_type": "execute_result"
    }
   ],
   "source": [
    "score = dataframe.groupby(['outcome rating'])['outcome score'].count()\n",
    "\n",
    "score.to_csv('3_Features\\\\Outcome_Rating_University.csv')\n",
    "\n",
    "score\n"
   ]
  },
  {
   "cell_type": "markdown",
   "metadata": {},
   "source": [
    "### Outcome Ratings by College"
   ]
  },
  {
   "cell_type": "code",
   "execution_count": 8,
   "metadata": {},
   "outputs": [
    {
     "data": {
      "text/plain": [
       "college                                   outcome rating                           \n",
       "College of Arts and Humanites             Exemplary                                    189\n",
       "                                          Fail                                          14\n",
       "                                          Minimum                                       77\n",
       "                                          No Data Collected                             72\n",
       "                                          Target                                       253\n",
       "College of Behavior and Social Sciences   Exemplary                                     24\n",
       "                                          Fail                                          11\n",
       "                                          Minimum                                        3\n",
       "                                          Target                                        16\n",
       "College of Educaton                       Exemplary                                     18\n",
       "                                          Target                                        29\n",
       "College of Natural and Applied Sciences   Exemplary                                     51\n",
       "                                          Fail                                          12\n",
       "                                          Minimum                                       10\n",
       "                                          No Data Collected                             70\n",
       "                                          Target                                       144\n",
       "College of Nursing                        Exemplary                                     37\n",
       "College of Theology & Christian Ministry  Exemplary                                     79\n",
       "                                          Invalid Entry - Distinguished/Commendable     42\n",
       "                                          Minimum                                       25\n",
       "                                          No Data Collected                            175\n",
       "                                          Target                                       148\n",
       "Name: outcome score, dtype: int64"
      ]
     },
     "execution_count": 8,
     "metadata": {},
     "output_type": "execute_result"
    }
   ],
   "source": [
    "score = dataframe.groupby(['college', 'outcome rating'])['outcome score'].count()\n",
    "\n",
    "score.to_csv('3_Features\\\\Outcome_Rating_by_College.csv')\n",
    "\n",
    "score"
   ]
  },
  {
   "cell_type": "markdown",
   "metadata": {},
   "source": [
    "## Generate Reports Based on Compliance\n",
    "\n",
    "### Compliance by College"
   ]
  },
  {
   "cell_type": "code",
   "execution_count": 13,
   "metadata": {},
   "outputs": [
    {
     "data": {
      "text/plain": [
       "college                                   compliance                          \n",
       "College of Arts and Humanites             Outcome assessed                        533\n",
       "                                          Outcome attached, no assessment          72\n",
       "College of Behavior and Social Sciences   Outcome assessed                         54\n",
       "College of Educaton                       Outcome assessed                         47\n",
       "College of Natural and Applied Sciences   Outcome assessed                        217\n",
       "                                          Outcome attached, no assessment          70\n",
       "College of Nursing                        Outcome assessed                         37\n",
       "College of Theology & Christian Ministry  Outcome assessed                        252\n",
       "                                          Outcome attached, invalid assessment     42\n",
       "                                          Outcome attached, no assessment         175\n",
       "Name: compliance, dtype: int64"
      ]
     },
     "execution_count": 13,
     "metadata": {},
     "output_type": "execute_result"
    }
   ],
   "source": [
    "compliance = dataframe.groupby(['college', 'compliance'])['compliance'].count()\n",
    "\n",
    "compliance.to_csv('3_Features\\\\Compliance_by_College.csv')\n",
    "\n",
    "compliance"
   ]
  },
  {
   "cell_type": "markdown",
   "metadata": {},
   "source": [
    "### Compliance by Course"
   ]
  },
  {
   "cell_type": "code",
   "execution_count": 14,
   "metadata": {},
   "outputs": [
    {
     "data": {
      "text/plain": [
       "course    compliance                     \n",
       "ARDE3950  Outcome assessed                    15\n",
       "BIBL1100  Outcome assessed                     2\n",
       "          Outcome attached, no assessment    174\n",
       "BIOL1060  Outcome assessed                    20\n",
       "          Outcome attached, no assessment      5\n",
       "                                            ... \n",
       "PSYC4010  Outcome assessed                     6\n",
       "THEO2100  Outcome assessed                    35\n",
       "THEO3620  Outcome assessed                    14\n",
       "          Outcome attached, no assessment      1\n",
       "THEO4900  Outcome assessed                    12\n",
       "Name: compliance, Length: 66, dtype: int64"
      ]
     },
     "execution_count": 14,
     "metadata": {},
     "output_type": "execute_result"
    }
   ],
   "source": [
    "compliance = dataframe.groupby(['course', 'compliance'])['compliance'].count()\n",
    "\n",
    "compliance.to_csv('3_Features\\\\Compliance_by_Course.csv')\n",
    "\n",
    "compliance"
   ]
  },
  {
   "cell_type": "markdown",
   "metadata": {},
   "source": [
    "### Compliance across the University"
   ]
  },
  {
   "cell_type": "code",
   "execution_count": 15,
   "metadata": {},
   "outputs": [
    {
     "data": {
      "text/plain": [
       "compliance\n",
       "Outcome assessed                        1140\n",
       "Outcome attached, invalid assessment      42\n",
       "Outcome attached, no assessment          317\n",
       "Name: compliance, dtype: int64"
      ]
     },
     "execution_count": 15,
     "metadata": {},
     "output_type": "execute_result"
    }
   ],
   "source": [
    "compliance = dataframe.groupby(['compliance'])['compliance'].count()\n",
    "\n",
    "compliance.to_csv('3_Features\\\\Compliance_University.csv')\n",
    "\n",
    "compliance"
   ]
  }
 ],
 "metadata": {
  "kernelspec": {
   "display_name": "Python 3.10.8 64-bit (microsoft store)",
   "language": "python",
   "name": "python3"
  },
  "language_info": {
   "codemirror_mode": {
    "name": "ipython",
    "version": 3
   },
   "file_extension": ".py",
   "mimetype": "text/x-python",
   "name": "python",
   "nbconvert_exporter": "python",
   "pygments_lexer": "ipython3",
   "version": "3.10.8"
  },
  "orig_nbformat": 4,
  "vscode": {
   "interpreter": {
    "hash": "b9d75fba48799978cc03d06d67ac9b5747e05087c4e4326acc71196d5c9d01bd"
   }
  }
 },
 "nbformat": 4,
 "nbformat_minor": 2
}
